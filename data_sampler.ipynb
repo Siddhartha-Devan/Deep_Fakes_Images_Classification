{
 "cells": [
  {
   "cell_type": "code",
   "execution_count": 3,
   "id": "40bb0682-abe6-431c-8303-081337c55631",
   "metadata": {},
   "outputs": [],
   "source": [
    "import os, glob\n",
    "import cv2\n",
    "import tensorflow as tf\n",
    "from tensorflow import keras\n",
    "import pandas as pd\n",
    "import numpy as np\n",
    "import seaborn as sns\n",
    "import matplotlib.pyplot as plt\n",
    "from tensorflow.keras import datasets, layers, models\n",
    "\n",
    "import sklearn"
   ]
  },
  {
   "cell_type": "code",
   "execution_count": 1,
   "id": "5c8a7c6a-4057-4c46-94c4-f03840268cef",
   "metadata": {},
   "outputs": [],
   "source": [
    "real_dir = r\"D:\\datasets\\deepfakes_imgs\\Dataset\\Train\\Real\"\n",
    "fake_dir = r\"D:\\datasets\\deepfakes_imgs\\Dataset\\Train\\Fake\"\n",
    "\n",
    "real_tar = r\"D:\\datasets\\deepfakes_imgs\\Dataset\\Train\\real_sampled\"\n",
    "fake_tar = r\"D:\\datasets\\deepfakes_imgs\\Dataset\\Train\\fake_sampled\""
   ]
  },
  {
   "cell_type": "code",
   "execution_count": null,
   "id": "8419ab80-2224-4f41-b702-e437b8abc251",
   "metadata": {},
   "outputs": [],
   "source": []
  },
  {
   "cell_type": "code",
   "execution_count": 9,
   "id": "e50c373b-970c-4be6-aeb5-c9a40ea26e4b",
   "metadata": {},
   "outputs": [],
   "source": [
    "real_paths = glob.glob(os.path.join(real_dir, '*jpg'))\n",
    "fake_paths = glob.glob(os.path.join(fake_dir, '*jpg'))"
   ]
  },
  {
   "cell_type": "code",
   "execution_count": 10,
   "id": "a4d917cc-175d-4150-a13d-336547722bff",
   "metadata": {},
   "outputs": [
    {
     "name": "stdout",
     "output_type": "stream",
     "text": [
      "70001\n",
      "70001\n"
     ]
    }
   ],
   "source": [
    "print(len(real_paths))\n",
    "print(len(fake_paths))"
   ]
  },
  {
   "cell_type": "code",
   "execution_count": 7,
   "id": "f2fc3104-bcf0-40ec-8921-410e5d02d6df",
   "metadata": {},
   "outputs": [],
   "source": []
  },
  {
   "cell_type": "code",
   "execution_count": 18,
   "id": "9ee2e361-cccd-4759-bf14-7921f411bf0b",
   "metadata": {},
   "outputs": [],
   "source": [
    "for i in range(len(real_paths)):\n",
    "    if i%2 == 0:\n",
    "        img = cv2.imread(real_paths[i])\n",
    "        cv2.imwrite(os.path.join(real_tar,\"real_\"+str(int(i/2))+'.jpg'), img)\n",
    "        "
   ]
  },
  {
   "cell_type": "code",
   "execution_count": 19,
   "id": "68affc26-9d17-4dbf-9054-4a2e7534f27c",
   "metadata": {},
   "outputs": [],
   "source": [
    "for i in range(len(fake_paths)):\n",
    "    if i%2 == 0:\n",
    "        img = cv2.imread(fake_paths[i])\n",
    "        cv2.imwrite(os.path.join(fake_tar,\"fake\"+str(int(i/2))+'.jpg'), img)\n",
    "        "
   ]
  },
  {
   "cell_type": "code",
   "execution_count": null,
   "id": "4285adcc-0e47-4637-862a-677db07da804",
   "metadata": {},
   "outputs": [],
   "source": []
  },
  {
   "cell_type": "code",
   "execution_count": null,
   "id": "dcaf4b58-27b6-4aff-8a09-32dc9bc99d42",
   "metadata": {},
   "outputs": [],
   "source": []
  },
  {
   "cell_type": "code",
   "execution_count": null,
   "id": "2e4b82cf-4d50-4f63-b7ba-93f484bbf0a7",
   "metadata": {},
   "outputs": [],
   "source": []
  },
  {
   "cell_type": "code",
   "execution_count": null,
   "id": "eaa4a880-a16a-4f69-bf72-222a23a40096",
   "metadata": {},
   "outputs": [],
   "source": []
  },
  {
   "cell_type": "code",
   "execution_count": null,
   "id": "551bea51-6bf0-463a-8b99-618c6e6a56a0",
   "metadata": {},
   "outputs": [],
   "source": []
  },
  {
   "cell_type": "code",
   "execution_count": null,
   "id": "efab2843-5c2d-4fc0-a417-1c343d73bdbd",
   "metadata": {},
   "outputs": [],
   "source": []
  },
  {
   "cell_type": "code",
   "execution_count": null,
   "id": "4cdb0236-3974-45c1-915d-ba67229cc6f9",
   "metadata": {},
   "outputs": [],
   "source": []
  },
  {
   "cell_type": "code",
   "execution_count": null,
   "id": "555cac27-48f7-490c-ac23-014da9d226c1",
   "metadata": {},
   "outputs": [],
   "source": []
  },
  {
   "cell_type": "code",
   "execution_count": null,
   "id": "5701dbd3-a621-431d-8610-8c6c331cb4eb",
   "metadata": {},
   "outputs": [],
   "source": []
  }
 ],
 "metadata": {
  "kernelspec": {
   "display_name": "Python 3 (ipykernel)",
   "language": "python",
   "name": "python3"
  },
  "language_info": {
   "codemirror_mode": {
    "name": "ipython",
    "version": 3
   },
   "file_extension": ".py",
   "mimetype": "text/x-python",
   "name": "python",
   "nbconvert_exporter": "python",
   "pygments_lexer": "ipython3",
   "version": "3.10.13"
  }
 },
 "nbformat": 4,
 "nbformat_minor": 5
}
